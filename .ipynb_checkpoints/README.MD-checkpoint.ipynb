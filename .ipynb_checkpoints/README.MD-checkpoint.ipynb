{
 "cells": [
  {
   "cell_type": "markdown",
   "id": "17389a3c",
   "metadata": {},
   "source": [
    "Assignment Questions  \n",
    "1. Import the data provided in the establishments.json   \n",
    "2. Perform data manipulation operations on imported data  \n",
    "3. Analyse data to answer the questions\n",
    "\n",
    "Files included in repository  \n",
    "\n",
    "NoSQL_setup_starter.ipynb   \n",
    "This file contains code to import data from establishments.json and data manipulation operations like insert and update.\n",
    "\n",
    "NoSQL_analysis_starter.ipynb   \n",
    "This file contains code to query database to answer questions in part 3.\n"
   ]
  }
 ],
 "metadata": {
  "kernelspec": {
   "display_name": "Python 3 (ipykernel)",
   "language": "python",
   "name": "python3"
  },
  "language_info": {
   "codemirror_mode": {
    "name": "ipython",
    "version": 3
   },
   "file_extension": ".py",
   "mimetype": "text/x-python",
   "name": "python",
   "nbconvert_exporter": "python",
   "pygments_lexer": "ipython3",
   "version": "3.11.5"
  }
 },
 "nbformat": 4,
 "nbformat_minor": 5
}
